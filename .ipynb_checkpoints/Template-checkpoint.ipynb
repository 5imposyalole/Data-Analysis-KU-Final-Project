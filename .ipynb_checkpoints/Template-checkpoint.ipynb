{
 "cells": [
  {
   "cell_type": "markdown",
   "metadata": {},
   "source": [
    "Data Analysis Practice II-E2 \n",
    "\n",
    "# Final Project\n",
    "\n",
    "<br>\n",
    "⚠️   <span style=\"color:red\">**NOTE!** &nbsp; &nbsp;  Your IPYNB file must run without errors</span>\n",
    "\n",
    "<br>\n",
    "\n",
    "<center>(To check for errors in Jupyter, use:   <b>Kernel</b>.. <b>Restart & Run All</b>)</center>"
   ]
  },
  {
   "cell_type": "markdown",
   "metadata": {},
   "source": [
    "___\n",
    "\n",
    "* **Name**:  <span style=\"color:blue\">Lolelanji Simposya</span>\n",
    "* **Student number**:  <span style=\"color:blue\">6530-30-7587</span>\n",
    "* **Project theme**:  <span style=\"color:blue\">Olympics</span>\n",
    "* **Project purpose**:  <span style=\"color:blue\">{Enter a one-to-two sentence purpose statement here. Example: \"The purpose of this project was to determine the correlates of batting average amongst professional baseball players in Japan during the 2018 season.\"}</span>"
   ]
  },
  {
   "cell_type": "markdown",
   "metadata": {},
   "source": [
    "___\n",
    "\n",
    "## Dataset description\n",
    "\n",
    "**Dataset source(s)**\n",
    "\n",
    "<span style=\"color:blue\">{Enter link(s) to your dataset(s) here}</span>\n",
    "\n",
    "**Overview**\n",
    "\n",
    "<span style=\"color:blue\">{Briefly describe the dataset(s) here (less than 50 words)}</span>\n",
    "\n",
    "\n",
    "**Variables**\n",
    "\n",
    "<span style=\"color:blue\">{List the variables you analyzed here.}</span>\n",
    "\n",
    "<span style=\"color:blue\">**Example:**</span>\n",
    "\n",
    "<span style=\"color:blue\">**Independent variables:**</span>\n",
    "* <span style=\"color:blue\">body mass</span>\n",
    "* <span style=\"color:blue\">body height</span>\n",
    "* <span style=\"color:blue\">age</span>\n",
    "* <span style=\"color:blue\">salary</span>\n",
    "* <span style=\"color:blue\">field position</span>\n",
    "* <span style=\"color:blue\">maximum running speed</span>\n",
    "* <span style=\"color:blue\">maximum squat strength</span>\n",
    "* <span style=\"color:blue\">previous season batting average</span>\n",
    "\n",
    "<span style=\"color:blue\">**Dependent variables:**</span>\n",
    "* <span style=\"color:blue\">batting average</span>\n",
    "* <span style=\"color:blue\">number of home runs</span>\n",
    "* <span style=\"color:blue\">slugging percentage</span>\n"
   ]
  },
  {
   "cell_type": "markdown",
   "metadata": {},
   "source": [
    "___\n",
    "\n",
    "## Data parsing using Python\n",
    "\n",
    "**Python functions used**\n",
    "\n",
    "<span style=\"color:blue\">{List the Python functions you used to parse the dataset(s).}</span>\n",
    "\n",
    "<span style=\"color:blue\">Example:</span>\n",
    "\n",
    "* `np.loadtxt`\n",
    "* `csv.reader`\n",
    "* `lxml.html.parse`\n",
    "* `lxml.etree.parse`\n",
    "\n",
    "\n",
    "**Overview**\n",
    "\n",
    "<span style=\"color:blue\">{Summarize your data parsing here (approximately 50 to 100 words)}</span>\n",
    "\n",
    "<span style=\"color:blue\">**Example:**</span>\n",
    "\n",
    "* <span style=\"color:blue\">I used `lxml.html.parse` to parse the baseball player data (**players.html**).</span>\n",
    "* <span style=\"color:blue\">I used `lxml.etree.parse` to parse baseball batting averages (**batting.xml**).\"</span>\n",
    "\n",
    "**Parsing difficulties**\n",
    "\n",
    "<span style=\"color:blue\">{Describe difficulties you had parsing the data (if any). Also describe how you handled these problems.}</span>\n",
    "\n",
    "<span style=\"color:blue\">**Example:**</span>\n",
    "\n",
    "* <span style=\"color:blue\">Extracting player body mass data was difficult because these data were not available for all players. I discarded players who did not have body mass data.</span>\n",
    "* <span style=\"color:blue\">I used `lxml.etree.parse` to parse baseball batting averages (**batting.xml**).\"</span>\n",
    "\n",
    "\n"
   ]
  },
  {
   "cell_type": "code",
   "execution_count": 1,
   "metadata": {},
   "outputs": [],
   "source": [
    "# {enter code for parsing data here}"
   ]
  },
  {
   "cell_type": "markdown",
   "metadata": {},
   "source": [
    "___\n",
    "\n",
    "## Analysis Methods\n",
    "\n",
    "<span style=\"color:blue\">{Briefly describe the analysis methods you used here.}</span>\n",
    "\n",
    "<span style=\"color:blue\">**Example:**</span>\n",
    "\n",
    "* <span style=\"color:blue\">Linear regression between body mass (and 20 other variables) and batting average.</span>\n",
    "* <span style=\"color:blue\">t tests comparing high-to-low batting average groups.</span>\n",
    "* <span style=\"color:blue\">PCA</span>\n",
    "* <span style=\"color:blue\">k-means clustering</span>\n"
   ]
  },
  {
   "cell_type": "markdown",
   "metadata": {},
   "source": [
    "___\n",
    "\n",
    "## Results"
   ]
  },
  {
   "cell_type": "markdown",
   "metadata": {},
   "source": [
    "### Dataset description\n",
    "\n",
    "<span style=\"color:blue\">{Create 1-3 figures or tables to describe the dataset.}</span>\n",
    "\n",
    "<span style=\"color:blue\">{Use Markdown cells to breifly describe each figure / table.}</span>"
   ]
  },
  {
   "cell_type": "code",
   "execution_count": 2,
   "metadata": {},
   "outputs": [],
   "source": [
    "# {Enter code for \"Dataset description\" figures / tables here}"
   ]
  },
  {
   "cell_type": "markdown",
   "metadata": {},
   "source": [
    "### Hypothesis testing results\n",
    "\n",
    "<span style=\"color:blue\">{Create 1-5 figures or tables using Python to describe your hypothesis testing results.}</span>\n",
    "\n",
    "<span style=\"color:blue\">{Use Markdown cells to breifly describe each figure / table.}</span>"
   ]
  },
  {
   "cell_type": "code",
   "execution_count": 3,
   "metadata": {},
   "outputs": [],
   "source": [
    "# {Enter code for \"Hypothesis testing results\" figures / tables here}"
   ]
  },
  {
   "cell_type": "markdown",
   "metadata": {},
   "source": [
    "### Machine learning\n",
    "\n",
    "<span style=\"color:blue\">{Create 1-5 figures or tables using Python to describe your machine learning results.}</span>\n",
    "\n",
    "<span style=\"color:blue\">{Use Markdown cells to breifly describe each figure / table.}</span>"
   ]
  },
  {
   "cell_type": "code",
   "execution_count": 4,
   "metadata": {},
   "outputs": [],
   "source": [
    "# {Enter code for \"Machine learning\" figures / tables here}"
   ]
  },
  {
   "cell_type": "markdown",
   "metadata": {},
   "source": [
    "___\n",
    "\n",
    "## Summary\n",
    "\n",
    "<span style=\"color:blue\">{Briefly summarize your findings in point form.}</span>\n",
    "\n",
    "<span style=\"color:blue\">**Example:**</span>\n",
    "\n",
    "* <span style=\"color:blue\">Linear regression found that salary was most highly correlated with batting average, but this correlation was not significant (p = 0.187).</span>\n",
    "* <span style=\"color:blue\">Two-sample t tests comparing high (>0.300) and low (<0.180) batting averages found that players with high batting averages had significantly greater salary than players with low batting averages (p=0.013) .</span>\n",
    "* <span style=\"color:blue\">PCA showed that two principal components could predict more than 90% of the variance in batting average. These components were dominated by the variables: salary, previous season batting average, and maximum running speed.</span>\n",
    "* <span style=\"color:blue\">k-means clustering showed that high and low batting averages were highly separable (accuracy = 93%) based on only salary and previous season batting average.</span>\n",
    "\n",
    "\n",
    "<span style=\"color:blue\">{Enter 1-2 summary statements here that describe your most important finding(s).}</span>\n",
    "\n",
    "<span style=\"color:blue\">**Example:**</span>\n",
    "\n",
    "<span style=\"color:blue\">This project found that a small number of variables could predict batting average with a relatively high accuracy of 93%.</span>"
   ]
  }
 ],
 "metadata": {
  "kernelspec": {
   "display_name": "Python 3",
   "language": "python",
   "name": "python3"
  },
  "language_info": {
   "codemirror_mode": {
    "name": "ipython",
    "version": 3
   },
   "file_extension": ".py",
   "mimetype": "text/x-python",
   "name": "python",
   "nbconvert_exporter": "python",
   "pygments_lexer": "ipython3",
   "version": "3.7.3"
  }
 },
 "nbformat": 4,
 "nbformat_minor": 2
}
