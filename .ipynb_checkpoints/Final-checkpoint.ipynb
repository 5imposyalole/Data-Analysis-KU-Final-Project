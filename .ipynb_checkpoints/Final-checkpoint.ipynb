{
 "cells": [
  {
   "cell_type": "markdown",
   "metadata": {},
   "source": [
    "Data Analysis Practice II-E2 \n",
    "\n",
    "# Final Project\n"
   ]
  },
  {
   "cell_type": "markdown",
   "metadata": {},
   "source": [
    "___\n",
    "\n",
    "* **Name**:  <span style=\"color:blue\">Lolelanji Simposya</span>\n",
    "* **Student number**:  <span style=\"color:blue\">6530-30-7587</span>\n",
    "* **Project theme**:  <span style=\"color:blue\">Japan at the Olympics</span>\n",
    "* **Project purpose**:  <span style=\"color:blue\">The purpose of this project was to determine the correlates of total medals earned by Japanese athletes during the olympics.</span>"
   ]
  },
  {
   "cell_type": "markdown",
   "metadata": {},
   "source": [
    "___\n",
    "\n",
    "## Dataset description\n",
    "\n",
    "**Dataset source(s)**\n",
    "\n",
    "* <span style=\"color:blue\">[Olympic 120 year history](https://www.kaggle.com/heesoo37/120-years-of-olympic-history-athletes-and-results)</span>\n",
    "* <span style=\"color:blue\">[World bank global population estimates](https://www.kaggle.com/theworldbank/global-population-estimates)</span>\n",
    "* <span style=\"color:blue\">[World bank historical GDP per capita](https://data.worldbank.org/indicator/NY.GDP.PCAP.CN)</span>\n",
    "\n",
    "\n",
    "**Overview**\n",
    "\n",
    "* <span style=\"color:blue\">Olympic 120 year history:</span><br/>\n",
    "Dataset on the modern Olympic Games, including all the Games from Athens 1896 to Rio 2016. Provides data on all athletes that competed in all the games. Credit to Kaggle user rgriffin who scraped the data off of https://www.sports-reference.com.\n",
    "\n",
    "* <span style=\"color:blue\">World bank global population estimates:</span><br/>\n",
    "This database presents population and other demographic estimates and projections from 1960 to 2050, covering more than 200 economies. It includes population data by various age groups, sex, urban/rural; fertility data; mortality data; and migration data.\n",
    "\n",
    "* <span style=\"color:blue\">World bank historical GDP per capita:</span><br/>\n",
    "This database presents World Bank national accounts data, and OECD National Accounts data files for different countries over time.\n",
    "\n",
    "\n",
    "**Variables**\n",
    "\n",
    "<span style=\"color:blue\">**Independent variables:**</span>\n",
    "* <span style=\"color:blue\">GDP</span>\n",
    "* <span style=\"color:blue\">Median Age of Olympic athletes</span>\n",
    "* <span style=\"color:blue\">Population</span>\n",
    "\n",
    "\n",
    "<span style=\"color:blue\">**Dependent variables:**</span>\n",
    "* <span style=\"color:blue\">Total Olympic Medals earned</span>\n"
   ]
  },
  {
   "cell_type": "markdown",
   "metadata": {},
   "source": [
    "___\n",
    "\n",
    "## Data parsing using Python\n",
    "\n",
    "**Python functions used**\n",
    "\n",
    "<span style=\"color:blue\">Pandas was used extensively to parse through the data.</span>\n",
    "\n",
    "\n",
    "\n",
    "* <span style=\"color:blue\">`pd.read_csv`</span>\n",
    "* <span style=\"color:blue\">`df.loc`</span>\n",
    "* <span style=\"color:blue\">`df.drop_duplicates`</span>\n",
    "* <span style=\"color:blue\">`np.isfinite`</span>\n",
    "* <span style=\"color:blue\">`df.tolist`</span>\n",
    "\n",
    "**Overview**\n",
    "\n",
    "* <span style=\"color:blue\">I used `pd.read_csv` to parse all three data sets. (**athlete_events.csv, gdp.csv, data.csv**).</span>\n",
    "* <span style=\"color:blue\">I used `df.loc` to parse for specific data in the data sets.</span>\n",
    "* <span style=\"color:blue\">I used `df.drop_duplicates` to drop duplicates in the dataset that could skew results.</span>\n",
    "* <span style=\"color:blue\">I used `np.isfinite` to take into account missing data.</span>\n",
    "* <span style=\"color:blue\">I used `df.tolist` to perform operations on data.</span>\n",
    "\n",
    "\n",
    "**Parsing difficulties**\n",
    "\n",
    "* <span style=\"color:blue\">Extracting player ages was difficult because data was not available for all Olympic athletes. I discarded players who did not have age data.</span>\n",
    "* <span style=\"color:blue\">Some olympic events, such as baseball, resulted in multiple medal winners from the same team. I had to remove duplicates using `df.drop_duplicates`  </span>\n",
    "* <span style=\"color:blue\"> GDP and Population data files were difficult to parse due to an encoding error. The csv files had to be slightly changed and the encoding had to be modified (encoding = \"ISO-8859-1\")  </span>\n",
    "\n"
   ]
  },
  {
   "cell_type": "code",
   "execution_count": 1,
   "metadata": {},
   "outputs": [
    {
     "name": "stderr",
     "output_type": "stream",
     "text": [
      "C:\\Users\\Lolelanji Simposya\\Anaconda3\\lib\\site-packages\\numpy\\core\\fromnumeric.py:3118: RuntimeWarning: Mean of empty slice.\n",
      "  out=out, **kwargs)\n",
      "C:\\Users\\Lolelanji Simposya\\Anaconda3\\lib\\site-packages\\numpy\\core\\_methods.py:85: RuntimeWarning: invalid value encountered in double_scalars\n",
      "  ret = ret.dtype.type(ret / rcount)\n"
     ]
    }
   ],
   "source": [
    "# {enter code for parsing data here}\n",
    "import pandas as pd\n",
    "import Module\n",
    "import importlib\n",
    "importlib.reload(Module)\n",
    "import numpy as np\n",
    "from scipy import stats\n",
    "from matplotlib import pyplot as plt\n",
    "from sklearn.cluster import KMeans\n",
    "from sklearn.neighbors import KNeighborsClassifier\n",
    "import lecture12util as lu\n",
    "\n",
    "country = 'JPN'\n",
    "year = 1960\n",
    "season = 's'\n",
    "\n",
    "bronze_count,silver_count,gold_count,medal_count= Module.medal_count(country, year, season)\n",
    "\n",
    "age,average_age,median_age, mode_age = Module.age_calc(country, year, season)\n",
    "gross, years = Module.GDP(country,year)\n",
    "pop,years =  Module.population(country,year)"
   ]
  },
  {
   "cell_type": "markdown",
   "metadata": {},
   "source": [
    "___\n",
    "\n",
    "## Analysis Methods\n",
    "\n",
    "* <span style=\"color:blue\">Regression between total medal count and GDP, Population and Median age of Olympic athletes.</span>\n",
    "* <span style=\"color:blue\">t tests comparing high medal counts to low medal count  groups.</span>\n",
    "* <span style=\"color:blue\">k-means clustering of total medal count and GDP, Population and Median age of Olympic athletes.</span>\n"
   ]
  },
  {
   "cell_type": "markdown",
   "metadata": {},
   "source": [
    "___\n",
    "\n",
    "## Results"
   ]
  },
  {
   "cell_type": "markdown",
   "metadata": {},
   "source": [
    "### Dataset description\n"
   ]
  },
  {
   "cell_type": "code",
   "execution_count": 2,
   "metadata": {},
   "outputs": [
    {
     "data": {
      "image/png": "[encoded data removed]",
      "text/plain": [
       "<Figure size 432x288 with 1 Axes>"
      ]
     },
     "metadata": {
      "needs_background": "light"
     },
     "output_type": "display_data"
    }
   ],
   "source": [
    "# {Enter code for \"Dataset description\" figures / tables here}\n",
    "plt.figure()\n",
    "markers_on = [1964, 1968, 1972, 1976,1980, 1984, 1988, 1992,1996, 2000, 2004, 2008,2012,2016]\n",
    "r = len(markers_on)\n",
    "\n",
    "plt.plot(years,pop)\n",
    "\n",
    "#print(years)\n",
    "#print(pop)\n",
    "\n",
    "plt.xlabel(\"Years\")\n",
    "plt.ylabel(\"Population\")\n",
    "for i in range(r):\n",
    "    plt.axvline( markers_on[i] ,linestyle='dashed', color= \"red\", label='Olympic Years' )\n",
    "plt.show()"
   ]
  },
  {
   "cell_type": "markdown",
   "metadata": {},
   "source": [
    "This figure shows the changing total population of Japan from 1960 to 2016 in the form of a line graph. The red dashed lines represent the years in which summer Olympic games were held."
   ]
  },
  {
   "cell_type": "code",
   "execution_count": 3,
   "metadata": {},
   "outputs": [
    {
     "data": {
      "image/png": "[encoded data removed]",
      "text/plain": [
       "<Figure size 432x288 with 1 Axes>"
      ]
     },
     "metadata": {
      "needs_background": "light"
     },
     "output_type": "display_data"
    }
   ],
   "source": [
    "plt.figure()\n",
    "markers_on = [1964, 1968, 1972, 1976,1980, 1984, 1988, 1992,1996, 2000, 2004, 2008,2012,2016]\n",
    "r = len(markers_on)\n",
    "plt.plot(years,gross)\n",
    "plt.xlabel(\"Years\")\n",
    "plt.ylabel(\"GDP\")\n",
    "\n",
    "#print(years)\n",
    "#print(gross)\n",
    "\n",
    "for i in range(r):\n",
    "    plt.axvline( markers_on[i] ,linestyle='dashed', color= \"red\", label='Olympic Years' )\n",
    "plt.show()"
   ]
  },
  {
   "cell_type": "markdown",
   "metadata": {},
   "source": [
    "This figure illustrates Japan's changing GDP from 1960 to 2016 in the form of a line graph. The red dashed lines represent the years in which summer Olympic games were held."
   ]
  },
  {
   "cell_type": "code",
   "execution_count": 4,
   "metadata": {},
   "outputs": [
    {
     "data": {
      "image/png": "[encoded data removed]",
      "text/plain": [
       "<Figure size 432x288 with 1 Axes>"
      ]
     },
     "metadata": {
      "needs_background": "light"
     },
     "output_type": "display_data"
    }
   ],
   "source": [
    "plt.figure()\n",
    "plt.boxplot(age)\n",
    "plt.xticks([1,2,3,4,5,6,7,8,9,10,11,12,13,14,15], ['1960', '1964', '1968', '1972','1976', '1980', '1984', '1988','1992', '1996', '2000', '2004','2008','2012', '2016'], rotation='vertical')\n",
    "plt.xlabel(\"Years\")\n",
    "plt.ylabel(\"Age\")\n",
    "plt.show()"
   ]
  },
  {
   "cell_type": "markdown",
   "metadata": {},
   "source": [
    "This figure illustrates the age distribution of Japanese athletes at the different Olympic events in the form of boxplots."
   ]
  },
  {
   "cell_type": "code",
   "execution_count": 5,
   "metadata": {},
   "outputs": [
    {
     "data": {
      "image/png": "[encoded data removed]",
      "text/plain": [
       "<Figure size 432x288 with 1 Axes>"
      ]
     },
     "metadata": {
      "needs_background": "light"
     },
     "output_type": "display_data"
    }
   ],
   "source": [
    "df_bar=pd.DataFrame({'Gold':gold_count, 'Silver':silver_count, 'Bronze':bronze_count})\n",
    "df_bar.plot(kind='bar', stacked=True, title = 'Medals Earned by Japanese Olympic teams over the years')\n",
    "plt.xticks([0,1,2,3,4,5,6,7,8,9,10,11,12,13,14], [ '1960','1964', '1968', '1972','1976', '1980', '1984', '1988','1992', '1996', '2000', '2004','2008','2012', '2016'], rotation='vertical')\n",
    "plt.xlabel(\"Years\")\n",
    "plt.ylabel(\"Medals Earned\")\n",
    "plt.show()"
   ]
  },
  {
   "cell_type": "markdown",
   "metadata": {},
   "source": [
    "This figure illustrates the medal count of Japanese athletes at the different Olympic events in the form of a stacked bar graph."
   ]
  },
  {
   "cell_type": "markdown",
   "metadata": {},
   "source": [
    "### Hypothesis testing results\n",
    "\n",
    "<span style=\"color:blue\">{Create 1-5 figures or tables using Python to describe your hypothesis testing results.}</span>\n",
    "\n",
    "<span style=\"color:blue\">{Use Markdown cells to breifly describe each figure / table.}</span>"
   ]
  },
  {
   "cell_type": "code",
   "execution_count": 6,
   "metadata": {},
   "outputs": [
    {
     "name": "stderr",
     "output_type": "stream",
     "text": [
      "C:\\Users\\Lolelanji Simposya\\Anaconda3\\lib\\site-packages\\numpy\\core\\fromnumeric.py:3118: RuntimeWarning: Mean of empty slice.\n",
      "  out=out, **kwargs)\n",
      "C:\\Users\\Lolelanji Simposya\\Anaconda3\\lib\\site-packages\\numpy\\core\\_methods.py:85: RuntimeWarning: invalid value encountered in double_scalars\n",
      "  ret = ret.dtype.type(ret / rcount)\n"
     ]
    }
   ],
   "source": [
    "olympic_years = [1960,1964, 1968, 1972, 1976, 1984, 1988, 1992,1996, 2000, 2004, 2008,2012,2016] \n",
    "\n",
    "GDP_olympic_years = []\n",
    "pop_olympic_years = []\n",
    "median_age_olympic_athletes = []\n",
    "\n",
    "\n",
    "for i in range(len(age)):\n",
    "    median_age_olympic_athletes.append(np.median(age[i]))\n",
    "    \n",
    "median_age_olympic_athletes1 = median_age_olympic_athletes[0:5]\n",
    "median_age_olympic_athletes2 = median_age_olympic_athletes[6:]\n",
    "true_median_age_olympic_athletes = median_age_olympic_athletes1 + median_age_olympic_athletes2\n",
    "\n",
    "#print(true_median_age_olympic_athletes)\n",
    "\n",
    "medal_count_years1 = medal_count[0:5]\n",
    "medal_count_years2 = medal_count[6:]\n",
    "medal_count_years = medal_count_years1 + medal_count_years2\n",
    "\n",
    "for i in range(len(olympic_years)):\n",
    "    indexPos = years.index(olympic_years[i])\n",
    "    GDP_olympic_years.append(gross[indexPos])\n",
    "    pop_olympic_years.append(pop[indexPos])\n",
    "\n",
    "results_GDP  = stats.linregress(GDP_olympic_years,medal_count_years)\n",
    "p_GDP        = results_GDP.pvalue\n",
    "#print(p_GDP)\n",
    "\n",
    "R_gdp = np.corrcoef(GDP_olympic_years,medal_count_years)\n",
    "r_gdp  = R_gdp[0,1]\n",
    "#print(r_gdp)\n",
    "\n",
    "results_pop  = stats.linregress(pop_olympic_years,medal_count_years)\n",
    "p_pop        = results_pop.pvalue\n",
    "#print(p_pop)\n",
    "\n",
    "R_pop = np.corrcoef(pop_olympic_years,medal_count_years)\n",
    "r_pop  = R_pop[0,1]\n",
    "#print(r_pop)\n",
    "\n",
    "results_median_age  = stats.linregress(true_median_age_olympic_athletes,medal_count_years)\n",
    "p_median_age        = results_median_age.pvalue\n",
    "#print(p_median_age)\n",
    "\n",
    "R_median_age = np.corrcoef(true_median_age_olympic_athletes,medal_count_years)\n",
    "r_median_age  = R_median_age[0,1]\n",
    "#print(r_median_age)"
   ]
  },
  {
   "cell_type": "markdown",
   "metadata": {},
   "source": [
    "\n",
    "-| GDP | Population | Median age\n",
    "------------ | ------------ | ------------- | -------------\n",
    "p value | 0.532  |  0.547 | 0.305\n",
    "Strength of correlation |  0.182| 0.176   | 0.295\n"
   ]
  },
  {
   "cell_type": "markdown",
   "metadata": {},
   "source": [
    "The table shows the p-value and strength of correlation between the dependent variables (GDP, Population and Median age) and the total medal count."
   ]
  },
  {
   "cell_type": "code",
   "execution_count": 7,
   "metadata": {},
   "outputs": [
    {
     "name": "stdout",
     "output_type": "stream",
     "text": [
      "-0.5299291681082808\n",
      "0.6077254781480763\n"
     ]
    }
   ],
   "source": [
    "medal_count_pre1 = medal_count[0:5]\n",
    "medal_count_pre2 = medal_count[6:7]\n",
    "\n",
    "medal_count_before = medal_count_pre1 + medal_count_pre2\n",
    "medal_count_after = medal_count[9:]\n",
    "\n",
    "t,p    = stats.ttest_ind(medal_count_before, medal_count_after)\n",
    "\n",
    "print(t)\n",
    "print(p)"
   ]
  },
  {
   "cell_type": "markdown",
   "metadata": {},
   "source": [
    " -| t value | p value |\n",
    "------------ | ------------ | ------------- | \n",
    " | 0.530  |  0.608 | \n",
    " \n",
    " \n"
   ]
  },
  {
   "cell_type": "markdown",
   "metadata": {},
   "source": [
    "Two-sample t test to compare the medal counts in which Japan had a high GDP and low GDP. The p value is not less than  α =0.05, so  H0  is not rejected."
   ]
  },
  {
   "cell_type": "markdown",
   "metadata": {},
   "source": [
    "### Machine learning\n",
    "\n",
    "<span style=\"color:blue\">{Create 1-5 figures or tables using Python to describe your machine learning results.}</span>\n",
    "\n",
    "<span style=\"color:blue\">{Use Markdown cells to breifly describe each figure / table.}</span>"
   ]
  },
  {
   "cell_type": "code",
   "execution_count": 8,
   "metadata": {},
   "outputs": [
    {
     "name": "stdout",
     "output_type": "stream",
     "text": [
      "Fitted cluster labels:  [1 1 1 1 1 1 0 0 0 0 0 0 0]\n",
      "[0.31881859 0.16773585] 1.0\n"
     ]
    },
    {
     "data": {
      "image/png": "[encoded data removed]",
      "text/plain": [
       "<Figure size 432x288 with 1 Axes>"
      ]
     },
     "metadata": {
      "needs_background": "light"
     },
     "output_type": "display_data"
    }
   ],
   "source": [
    "# {Enter code for \"Machine learning\" figures / tables here}\n",
    "\n",
    "k =[]\n",
    "k[0:] = medal_count_years\n",
    "k[:1] = GDP_olympic_years\n",
    "\n",
    "k_final = np.column_stack((k[0:13], k[14:]))\n",
    "k_final.shape\n",
    "\n",
    "kmeans = KMeans(n_clusters=2, random_state=0)\n",
    "kmeans.fit(k_final)\n",
    "labels = kmeans.labels_\n",
    "print( f'Fitted cluster labels:  {labels}' )\n",
    "plt.xlabel(\"GDP\")\n",
    "plt.ylabel(\"Medal Count\")\n",
    "lu.plot_labeled_points(k_final, labels, colors=['r','b'])\n",
    "dw,db   = lu.average_distances(k_final, labels, ratios=True)\n",
    "print(dw, db)"
   ]
  },
  {
   "cell_type": "markdown",
   "metadata": {},
   "source": []
  },
  {
   "cell_type": "code",
   "execution_count": 9,
   "metadata": {},
   "outputs": [
    {
     "name": "stdout",
     "output_type": "stream",
     "text": [
      "Fitted cluster labels:  [1 1 1 1 1 1 0 0 0 0 0 0 0]\n"
     ]
    },
    {
     "data": {
      "image/png": "[encoded data removed]",
      "text/plain": [
       "<Figure size 432x288 with 1 Axes>"
      ]
     },
     "metadata": {
      "needs_background": "light"
     },
     "output_type": "display_data"
    }
   ],
   "source": [
    "# {Enter code for \"Machine learning\" figures / tables here}\n",
    "\n",
    "k1 =[]\n",
    "k1[0:] = medal_count_years\n",
    "k1[:1] = true_median_age_olympic_athletes\n",
    "\n",
    "k_final1 = np.column_stack((k1[0:13], k1[14:]))\n",
    "k_final.shape\n",
    "\n",
    "kmeans1 = KMeans(n_clusters=2, random_state=0)\n",
    "kmeans.fit(k_final1)\n",
    "labels1 = kmeans.labels_\n",
    "plt.xlabel(\"Population\")\n",
    "plt.ylabel(\"Median age of Japanese Olympic Athletes\")\n",
    "print( f'Fitted cluster labels:  {labels}' )\n",
    "lu.plot_labeled_points(k_final1, labels, colors=['r','b'])"
   ]
  },
  {
   "cell_type": "code",
   "execution_count": 10,
   "metadata": {},
   "outputs": [
    {
     "name": "stdout",
     "output_type": "stream",
     "text": [
      "Fitted cluster labels:  [1 1 1 1 1 1 0 0 0 0 0 0 0]\n",
      "[0.15815319 0.77493512] 1.0\n"
     ]
    },
    {
     "data": {
      "image/png": "[encoded data removed]",
      "text/plain": [
       "<Figure size 432x288 with 1 Axes>"
      ]
     },
     "metadata": {
      "needs_background": "light"
     },
     "output_type": "display_data"
    }
   ],
   "source": [
    "# {Enter code for \"Machine learning\" figures / tables here}\n",
    "\n",
    "k2 =[]\n",
    "k2[0:] = medal_count_years\n",
    "k2[:1] = pop_olympic_years\n",
    "\n",
    "k_final2 = np.column_stack((k2[0:13], k2[14:]))\n",
    "k_final2.shape\n",
    "\n",
    "#print(k_final)\n",
    "\n",
    "#a = [1, 2]\n",
    "#np.asarray(a)\n",
    "\n",
    "kmeans1 = KMeans(n_clusters=2, random_state=0)\n",
    "kmeans.fit(k_final2)\n",
    "labels1 = kmeans.labels_\n",
    "print( f'Fitted cluster labels:  {labels}' )\n",
    "lu.plot_labeled_points(k_final2, labels, colors=['r','b'])\n",
    "plt.xlabel(\"Population\")\n",
    "plt.ylabel(\"Medal Count\")\n",
    "dw,db   = lu.average_distances(k_final2, labels, ratios=True)\n",
    "print(dw, db)"
   ]
  },
  {
   "cell_type": "markdown",
   "metadata": {},
   "source": [
    "___\n",
    "\n",
    "## Summary\n",
    "\n",
    "* <span style=\"color:blue\">Linear regression found that median age was most highly correlated with medals earned (p = 0.305). Suggesting that experience plays a key role in olympic performance.</span>\n",
    "* <span style=\"color:blue\">Two-sample t tests comparing years in which Japan had a high GDP and low GDP found that medals earned were not significantly different (p=0.608).</span>\n",
    "* <span style=\"color:blue\">k-means clustering showed that high medal counts and low medal counts were highly separable based on total population size. This could suggest a larger population fosters greater competition which in turn results in better Olympic athletes.</span>\n",
    "\n",
    "<span style=\"color:blue\">This project explored the effects that the dependent variables (GDP, Population and Median age of athletes) had on the total medals achieved by Japan at the olympic games. The effect of GDP did not have a significant effect, based on the two sample t test. The results suggest a significant effect from median age of athletes and population variables.</span>"
   ]
  }
 ],
 "metadata": {
  "kernelspec": {
   "display_name": "Python 3",
   "language": "python",
   "name": "python3"
  },
  "language_info": {
   "codemirror_mode": {
    "name": "ipython",
    "version": 3
   },
   "file_extension": ".py",
   "mimetype": "text/x-python",
   "name": "python",
   "nbconvert_exporter": "python",
   "pygments_lexer": "ipython3",
   "version": "3.7.3"
  }
 },
 "nbformat": 4,
 "nbformat_minor": 2
}
