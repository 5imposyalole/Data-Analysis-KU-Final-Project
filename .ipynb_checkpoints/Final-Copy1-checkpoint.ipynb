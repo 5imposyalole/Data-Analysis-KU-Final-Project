{
 "cells": [
  {
   "cell_type": "code",
   "execution_count": 3,
   "metadata": {},
   "outputs": [
    {
     "name": "stdout",
     "output_type": "stream",
     "text": [
      "   ID                 Name Sex   Age  Height  Weight     Team  NOC  \\\n",
      "0   1            A Dijiang   M  24.0   180.0    80.0    China  CHN   \n",
      "1   2             A Lamusi   M  23.0   170.0    60.0    China  CHN   \n",
      "2   3  Gunnar Nielsen Aaby   M  24.0     NaN     NaN  Denmark  DEN   \n",
      "\n",
      "         Games  Year  Season       City       Sport  \\\n",
      "0  1992 Summer  1992  Summer  Barcelona  Basketball   \n",
      "1  2012 Summer  2012  Summer     London        Judo   \n",
      "2  1920 Summer  1920  Summer  Antwerpen    Football   \n",
      "\n",
      "                          Event Medal  \n",
      "0   Basketball Men's Basketball   NaN  \n",
      "1  Judo Men's Extra-Lightweight   NaN  \n",
      "2       Football Men's Football   NaN  \n"
     ]
    }
   ],
   "source": [
    "import pandas as pd\n",
    "\n",
    "df = pd.read_csv('athlete_events.csv')\n",
    "\n",
    "#df2 = pd.read_csv('athlete_events.csv')\n",
    "\n",
    "#df.columns\n",
    "#df['Season']\n",
    "#print(df)\n",
    "print(df.head(3))\n",
    "#print(df.tail(3))\n",
    "\n",
    "#df.loc[df['Season'] == 'Summer']\n",
    "\n"
   ]
  },
  {
   "cell_type": "code",
   "execution_count": 24,
   "metadata": {},
   "outputs": [],
   "source": [
    "import pandas as pd\n",
    "\n",
    "#f = pd.read_csv('athlete_events.csv')\n",
    "\n",
    "#df.columns\n",
    "#df['Season']\n",
    "#print(df)\n",
    "#print(df.head(3))\n",
    "#print(df.tail(3))\n",
    "\n",
    "#df.loc[df['Season'] == 'Summer']\n",
    "\n",
    "\n",
    "#ew_df = df.loc[(df['Season'] == 'Summer') & (df['Year'] >= 1960)]\n",
    "#ew_df.reset_index(drop=True, inplace=True)\n",
    "#ew_df\n",
    "#ew_df.to_csv('filtered.csv')"
   ]
  },
  {
   "cell_type": "code",
   "execution_count": 1,
   "metadata": {},
   "outputs": [
    {
     "name": "stdout",
     "output_type": "stream",
     "text": [
      "Enter Country name:\n",
      "China\n",
      "Enter year greater than 1970: \n",
      "1975\n",
      "Which Season? :\n",
      "Winter\n",
      "\n"
     ]
    }
   ],
   "source": [
    "import pandas as pd\n",
    "df = pd.read_csv('athlete_events.csv')\n",
    "\n",
    "country = input('Enter Country name:\\n')\n",
    "year = int(input('Enter year greater than 1970: \\n'))\n",
    "season = input('Which Season? :\\n')\n",
    "new_df = df.loc[(df['Team'] == country) & (df['Year'] >= year ) & (df['Season'] == season)]\n",
    "new_df.to_csv('CHINA.csv')\n",
    "#print(new_df)\n",
    "\n",
    "\n",
    "\n",
    "\n",
    "\n",
    "#country = input()\n",
    "#print('Please input a year greater than 1960: \\n')\n",
    "#year = input()\n",
    "\n",
    "print()\n",
    "#print(country)\n",
    "#print(year)\n",
    "\n",
    "#print('Which country are you interested in?: \\n')\n",
    "#a = input()\n",
    "#print(a)\n",
    "\n"
   ]
  },
  {
   "cell_type": "code",
   "execution_count": null,
   "metadata": {},
   "outputs": [],
   "source": [
    "\n",
    "print('hello')"
   ]
  },
  {
   "cell_type": "code",
   "execution_count": null,
   "metadata": {},
   "outputs": [],
   "source": []
  }
 ],
 "metadata": {
  "kernelspec": {
   "display_name": "Python 3",
   "language": "python",
   "name": "python3"
  },
  "language_info": {
   "codemirror_mode": {
    "name": "ipython",
    "version": 3
   },
   "file_extension": ".py",
   "mimetype": "text/x-python",
   "name": "python",
   "nbconvert_exporter": "python",
   "pygments_lexer": "ipython3",
   "version": "3.7.3"
  }
 },
 "nbformat": 4,
 "nbformat_minor": 2
}
